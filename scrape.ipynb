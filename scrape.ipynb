{
 "cells": [
  {
   "cell_type": "code",
   "execution_count": 1,
   "metadata": {
    "collapsed": true
   },
   "outputs": [],
   "source": [
    "from bs4 import BeautifulSoup\n",
    "import requests, re, time"
   ]
  },
  {
   "cell_type": "code",
   "execution_count": 93,
   "metadata": {
    "collapsed": false
   },
   "outputs": [],
   "source": [
    "# vergadering = soup.find(id='broodtekst')"
   ]
  },
  {
   "cell_type": "code",
   "execution_count": 14,
   "metadata": {
    "collapsed": true
   },
   "outputs": [],
   "source": [
    "achternamen = []\n",
    "partijen = []\n",
    "teksten = []"
   ]
  },
  {
   "cell_type": "code",
   "execution_count": 15,
   "metadata": {
    "collapsed": false
   },
   "outputs": [],
   "source": [
    "def parse_item(url):\n",
    "    r = requests.get(url)\n",
    "    soup = BeautifulSoup(r.text, 'lxml')\n",
    "    for spreekbeurt in soup.find_all(class_=['spreekbeurt', 'spreekbeurt eerst']):\n",
    "        spreker = spreekbeurt.find(class_='spreker')\n",
    "        achternaam = spreker.find(class_='achternaam').get_text()\n",
    "        partij = spreker.find(class_='politiek')\n",
    "        if not partij is None:\n",
    "            partij = partij.get_text()\n",
    "\n",
    "        tekst = spreekbeurt.find_all(class_=['alineagroep', 'motie'])\n",
    "        tekst = ' '.join([alinea.get_text() for alinea in tekst])\n",
    "\n",
    "        achternamen.append(achternaam)\n",
    "        partijen.append(partij)\n",
    "        teksten.append(tekst)"
   ]
  },
  {
   "cell_type": "code",
   "execution_count": 16,
   "metadata": {
    "collapsed": true
   },
   "outputs": [],
   "source": [
    "year = '2013-2014'"
   ]
  },
  {
   "cell_type": "code",
   "execution_count": 26,
   "metadata": {
    "collapsed": false
   },
   "outputs": [
    {
     "name": "stdout",
     "output_type": "stream",
     "text": [
      "49\n",
      "50\n",
      "51\n",
      "52\n",
      "53\n",
      "54\n",
      "55\n",
      "56\n",
      "57\n",
      "58\n",
      "59\n",
      "60\n",
      "61\n",
      "62\n",
      "63\n",
      "64\n",
      "65\n",
      "66\n",
      "67\n",
      "68\n",
      "69\n",
      "70\n",
      "71\n",
      "72\n",
      "73\n",
      "74\n",
      "75\n",
      "76\n",
      "77\n",
      "78\n",
      "79\n",
      "80\n",
      "81\n",
      "82\n",
      "83\n",
      "84\n",
      "85\n",
      "86\n",
      "87\n",
      "88\n",
      "89\n",
      "90\n",
      "91\n",
      "92\n",
      "93\n",
      "94\n",
      "95\n",
      "96\n",
      "97\n",
      "98\n",
      "99\n",
      "100\n",
      "101\n",
      "102\n",
      "103\n",
      "104\n",
      "105\n",
      "106\n",
      "107\n",
      "108\n",
      "109\n"
     ]
    }
   ],
   "source": [
    "for i in range(1,1000): # !\n",
    "    print(i)\n",
    "    url = 'https://zoek.officielebekendmakingen.nl/rss/handelingen/TK/'+year+'/'+str(i)\n",
    "    r = requests.get(url)\n",
    "    soup = BeautifulSoup(r.text, 'lxml')\n",
    "    for br in soup.find_all('br'):\n",
    "        br.replace_with('\\n')\n",
    "    urls = re.findall('<link/>(.*?)<category>', str(soup))\n",
    "    if len(urls)==0:\n",
    "        break\n",
    "    for url in urls[1:]:\n",
    "        parse_item(url)\n",
    "    time.sleep(1)"
   ]
  },
  {
   "cell_type": "code",
   "execution_count": 18,
   "metadata": {
    "collapsed": false
   },
   "outputs": [
    {
     "data": {
      "text/plain": [
       "29162"
      ]
     },
     "execution_count": 18,
     "metadata": {},
     "output_type": "execute_result"
    }
   ],
   "source": [
    "len(teksten)"
   ]
  },
  {
   "cell_type": "code",
   "execution_count": 27,
   "metadata": {
    "collapsed": false
   },
   "outputs": [
    {
     "name": "stdout",
     "output_type": "stream",
     "text": [
      "Woorden: 43396964\n"
     ]
    }
   ],
   "source": [
    "woorden = 0\n",
    "for t in teksten:\n",
    "    woorden += len(t)\n",
    "print('Woorden: {}'.format(woorden))"
   ]
  },
  {
   "cell_type": "code",
   "execution_count": 28,
   "metadata": {
    "collapsed": true
   },
   "outputs": [],
   "source": [
    "import pandas as pd"
   ]
  },
  {
   "cell_type": "code",
   "execution_count": 29,
   "metadata": {
    "collapsed": false
   },
   "outputs": [],
   "source": [
    "df = pd.DataFrame([achternamen, partijen, teksten], index=['Naam', 'Partij', 'Uitspraak']).T"
   ]
  },
  {
   "cell_type": "code",
   "execution_count": 30,
   "metadata": {
    "collapsed": false
   },
   "outputs": [
    {
     "data": {
      "text/html": [
       "<div>\n",
       "<table border=\"1\" class=\"dataframe\">\n",
       "  <thead>\n",
       "    <tr style=\"text-align: right;\">\n",
       "      <th></th>\n",
       "      <th>Naam</th>\n",
       "      <th>Partij</th>\n",
       "      <th>Uitspraak</th>\n",
       "    </tr>\n",
       "  </thead>\n",
       "  <tbody>\n",
       "    <tr>\n",
       "      <th>0</th>\n",
       "      <td>voorzitter</td>\n",
       "      <td>None</td>\n",
       "      <td>\\nIk deel aan de Kamer mee dat het volgende li...</td>\n",
       "    </tr>\n",
       "    <tr>\n",
       "      <th>1</th>\n",
       "      <td>voorzitter</td>\n",
       "      <td>None</td>\n",
       "      <td>\\nIk geef het woord aan de minister van Financ...</td>\n",
       "    </tr>\n",
       "    <tr>\n",
       "      <th>2</th>\n",
       "      <td>Dijsselbloem</td>\n",
       "      <td>None</td>\n",
       "      <td>\\nMevrouw de voorzitter. Het is een eer om hie...</td>\n",
       "    </tr>\n",
       "    <tr>\n",
       "      <th>3</th>\n",
       "      <td>voorzitter</td>\n",
       "      <td>None</td>\n",
       "      <td>\\nIk zal er zuinig op zijn.\\n \\nIk dank de min...</td>\n",
       "    </tr>\n",
       "    <tr>\n",
       "      <th>4</th>\n",
       "      <td>voorzitter</td>\n",
       "      <td>None</td>\n",
       "      <td>\\nIk stel voor, als commissies bedoeld in arti...</td>\n",
       "    </tr>\n",
       "  </tbody>\n",
       "</table>\n",
       "</div>"
      ],
      "text/plain": [
       "           Naam Partij                                          Uitspraak\n",
       "0    voorzitter   None  \\nIk deel aan de Kamer mee dat het volgende li...\n",
       "1    voorzitter   None  \\nIk geef het woord aan de minister van Financ...\n",
       "2  Dijsselbloem   None  \\nMevrouw de voorzitter. Het is een eer om hie...\n",
       "3    voorzitter   None  \\nIk zal er zuinig op zijn.\\n \\nIk dank de min...\n",
       "4    voorzitter   None  \\nIk stel voor, als commissies bedoeld in arti..."
      ]
     },
     "execution_count": 30,
     "metadata": {},
     "output_type": "execute_result"
    }
   ],
   "source": [
    "df.head()"
   ]
  },
  {
   "cell_type": "code",
   "execution_count": 31,
   "metadata": {
    "collapsed": false
   },
   "outputs": [
    {
     "data": {
      "text/plain": [
       "'2013-2014'"
      ]
     },
     "execution_count": 31,
     "metadata": {},
     "output_type": "execute_result"
    }
   ],
   "source": [
    "year"
   ]
  },
  {
   "cell_type": "code",
   "execution_count": 32,
   "metadata": {
    "collapsed": true
   },
   "outputs": [],
   "source": [
    "df.to_csv('uitspraken Tweede Kamer'+year+'.csv', index=False)"
   ]
  }
 ],
 "metadata": {
  "anaconda-cloud": {},
  "kernelspec": {
   "display_name": "Python 3",
   "language": "python",
   "name": "python3"
  },
  "language_info": {
   "codemirror_mode": {
    "name": "ipython",
    "version": 3
   },
   "file_extension": ".py",
   "mimetype": "text/x-python",
   "name": "python",
   "nbconvert_exporter": "python",
   "pygments_lexer": "ipython3",
   "version": "3.6.0"
  }
 },
 "nbformat": 4,
 "nbformat_minor": 2
}
