{
 "cells": [
  {
   "cell_type": "code",
   "execution_count": 1,
   "metadata": {
    "collapsed": true
   },
   "outputs": [],
   "source": [
    "from bs4 import BeautifulSoup\n",
    "import requests, re, time"
   ]
  },
  {
   "cell_type": "code",
   "execution_count": 93,
   "metadata": {
    "collapsed": false
   },
   "outputs": [],
   "source": [
    "# vergadering = soup.find(id='broodtekst')"
   ]
  },
  {
   "cell_type": "code",
   "execution_count": 14,
   "metadata": {
    "collapsed": true
   },
   "outputs": [],
   "source": [
    "achternamen = []\n",
    "partijen = []\n",
    "teksten = []"
   ]
  },
  {
   "cell_type": "code",
   "execution_count": 15,
   "metadata": {
    "collapsed": false
   },
   "outputs": [],
   "source": [
    "def parse_item(url):\n",
    "    r = requests.get(url)\n",
    "    soup = BeautifulSoup(r.text, 'lxml')\n",
    "    for spreekbeurt in soup.find_all(class_=['spreekbeurt', 'spreekbeurt eerst']):\n",
    "        spreker = spreekbeurt.find(class_='spreker')\n",
    "        achternaam = spreker.find(class_='achternaam').get_text()\n",
    "        partij = spreker.find(class_='politiek')\n",
    "        if not partij is None:\n",
    "            partij = partij.get_text()\n",
    "\n",
    "        tekst = spreekbeurt.find_all(class_=['alineagroep', 'motie'])\n",
    "        tekst = ' '.join([alinea.get_text() for alinea in tekst])\n",
    "\n",
    "        achternamen.append(achternaam)\n",
    "        partijen.append(partij)\n",
    "        teksten.append(tekst)"
   ]
  },
  {
   "cell_type": "code",
   "execution_count": 16,
   "metadata": {
    "collapsed": true
   },
   "outputs": [],
   "source": [
    "year = '2013-2014'"
   ]
  },
  {
   "cell_type": "code",
   "execution_count": 26,
   "metadata": {
    "collapsed": false
   },
   "outputs": [
    {
     "name": "stdout",
     "output_type": "stream",
     "text": [
      "49\n",
      "50\n",
      "51\n",
      "52\n",
      "53\n",
      "54\n",
      "55\n",
      "56\n",
      "57\n",
      "58\n",
      "59\n",
      "60\n",
      "61\n",
      "62\n",
      "63\n",
      "64\n",
      "65\n",
      "66\n",
      "67\n",
      "68\n",
      "69\n",
      "70\n",
      "71\n",
      "72\n",
      "73\n",
      "74\n",
      "75\n",
      "76\n",
      "77\n",
      "78\n",
      "79\n",
      "80\n",
      "81\n",
      "82\n",
      "83\n",
      "84\n",
      "85\n",
      "86\n",
      "87\n",
      "88\n",
      "89\n",
      "90\n",
      "91\n",
      "92\n",
      "93\n",
      "94\n",
      "95\n",
      "96\n",
      "97\n",
      "98\n",
      "99\n",
      "100\n",
      "101\n",
      "102\n",
      "103\n",
      "104\n",
      "105\n",
      "106\n",
      "107\n",
      "108\n",
      "109\n"
     ]
    }
   ],
   "source": [
    "for i in range(1,1000): # !\n",
    "    print(i)\n",
    "    url = 'https://zoek.officielebekendmakingen.nl/rss/handelingen/TK/'+year+'/'+str(i)\n",
    "    r = requests.get(url)\n",
    "    soup = BeautifulSoup(r.text, 'lxml')\n",
    "    for br in soup.find_all('br'):\n",
    "        br.replace_with('\\n')\n",
    "    urls = re.findall('<link/>(.*?)<category>', str(soup))\n",
    "    if len(urls)==0:\n",
    "        break\n",
    "    for url in urls[1:]:\n",
    "        parse_item(url)\n",
    "    time.sleep(1)"
   ]
  },
  {
   "cell_type": "code",
   "execution_count": 18,
   "metadata": {
    "collapsed": false
   },
   "outputs": [
    {
     "data": {
      "text/plain": [
       "29162"
      ]
     },
     "execution_count": 18,
     "metadata": {},
     "output_type": "execute_result"
    }
   ],
   "source": [
    "len(teksten)"
   ]
  },
  {
   "cell_type": "code",
   "execution_count": 27,
   "metadata": {
    "collapsed": false
   },
   "outputs": [
    {
     "name": "stdout",
     "output_type": "stream",
     "text": [
      "Woorden: 43396964\n"
     ]
    }
   ],
   "source": [
    "woorden = 0\n",
    "for t in teksten:\n",
    "    woorden += len(t)\n",
    "print('Woorden: {}'.format(woorden))"
   ]
  },
  {
   "cell_type": "code",
   "execution_count": 28,
   "metadata": {
    "collapsed": true
   },
   "outputs": [],
   "source": [
    "import pandas as pd"
   ]
  },
  {
   "cell_type": "code",
   "execution_count": 29,
   "metadata": {
    "collapsed": false
   },
   "outputs": [],
   "source": [
    "df = pd.DataFrame([achternamen, partijen, teksten], index=['Naam', 'Partij', 'Uitspraak']).T"
   ]
  },
  {
   "cell_type": "code",
   "execution_count": 30,
   "metadata": {
    "collapsed": false
   },
   "outputs": [
    {
     "data": {
      "text/html": [
       "<div>\n",
       "<table border=\"1\" class=\"dataframe\">\n",
       "  <thead>\n",
       "    <tr style=\"text-align: right;\">\n",
       "      <th></th>\n",
       "      <th>Naam</th>\n",
       "      <th>Partij</th>\n",
       "      <th>Uitspraak</th>\n",
       "    </tr>\n",
       "  </thead>\n",
       "  <tbody>\n",
       "    <tr>\n",
       "      <th>0</th>\n",
       "      <td>voorzitter</td>\n",
       "      <td>None</td>\n",
       "      <td>\\nIk deel aan de Kamer mee dat het volgende li...</td>\n",
       "    </tr>\n",
       "    <tr>\n",
       "      <th>1</th>\n",
       "      <td>voorzitter</td>\n",
       "      <td>None</td>\n",
       "      <td>\\nIk geef het woord aan de minister van Financ...</td>\n",
       "    </tr>\n",
       "    <tr>\n",
       "      <th>2</th>\n",
       "      <td>Dijsselbloem</td>\n",
       "      <td>None</td>\n",
       "      <td>\\nMevrouw de voorzitter. Het is een eer om hie...</td>\n",
       "    </tr>\n",
       "    <tr>\n",
       "      <th>3</th>\n",
       "      <td>voorzitter</td>\n",
       "      <td>None</td>\n",
       "      <td>\\nIk zal er zuinig op zijn.\\n \\nIk dank de min...</td>\n",
       "    </tr>\n",
       "    <tr>\n",
       "      <th>4</th>\n",
       "      <td>voorzitter</td>\n",
       "      <td>None</td>\n",
       "      <td>\\nIk stel voor, als commissies bedoeld in arti...</td>\n",
       "    </tr>\n",
       "  </tbody>\n",
       "</table>\n",
       "</div>"
      ],
      "text/plain": [
       "           Naam Partij                                          Uitspraak\n",
       "0    voorzitter   None  \\nIk deel aan de Kamer mee dat het volgende li...\n",
       "1    voorzitter   None  \\nIk geef het woord aan de minister van Financ...\n",
       "2  Dijsselbloem   None  \\nMevrouw de voorzitter. Het is een eer om hie...\n",
       "3    voorzitter   None  \\nIk zal er zuinig op zijn.\\n \\nIk dank de min...\n",
       "4    voorzitter   None  \\nIk stel voor, als commissies bedoeld in arti..."
      ]
     },
     "execution_count": 30,
     "metadata": {},
     "output_type": "execute_result"
    }
   ],
   "source": [
    "df.head()"
   ]
  },
  {
   "cell_type": "code",
   "execution_count": 31,
   "metadata": {
    "collapsed": false
   },
   "outputs": [
    {
     "data": {
      "text/plain": [
       "'2013-2014'"
      ]
     },
     "execution_count": 31,
     "metadata": {},
     "output_type": "execute_result"
    }
   ],
   "source": [
    "year"
   ]
  },
  {
   "cell_type": "code",
   "execution_count": 32,
   "metadata": {
    "collapsed": true
   },
   "outputs": [],
   "source": [
    "df.to_csv('uitspraken Tweede Kamer'+year+'.csv', index=False)"
   ]
  },
  {
   "cell_type": "markdown",
   "metadata": {},
   "source": [
    "<hr>"
   ]
  },
  {
   "cell_type": "markdown",
   "metadata": {},
   "source": [
    "# Scrape meest recente 2 maanden aan plenaire vergaderingen Tweede Kamer"
   ]
  },
  {
   "cell_type": "code",
   "execution_count": 2,
   "metadata": {
    "collapsed": true
   },
   "outputs": [],
   "source": [
    "deelnemers = set()\n",
    "deelnemers.add('de voorzitter')"
   ]
  },
  {
   "cell_type": "code",
   "execution_count": 3,
   "metadata": {
    "collapsed": true
   },
   "outputs": [],
   "source": [
    "uitspraken = {}"
   ]
  },
  {
   "cell_type": "code",
   "execution_count": 4,
   "metadata": {
    "collapsed": true
   },
   "outputs": [],
   "source": [
    "pattern = re.compile('(\\n\\n)')"
   ]
  },
  {
   "cell_type": "code",
   "execution_count": 5,
   "metadata": {
    "collapsed": false
   },
   "outputs": [
    {
     "name": "stdout",
     "output_type": "stream",
     "text": [
      "74\n",
      "75\n",
      "76\n",
      "77\n",
      "78\n",
      "79\n",
      "80\n",
      "81\n",
      "82\n",
      "83\n",
      "84\n",
      "85\n",
      "86\n",
      "87\n",
      "88\n",
      "89\n",
      "90\n",
      "91\n",
      "92\n",
      "93\n",
      "94\n",
      "95\n",
      "96\n",
      "97\n"
     ]
    }
   ],
   "source": [
    "for i in range(74, 98):\n",
    "    print(i)\n",
    "    url = 'https://www.tweedekamer.nl/kamerstukken/plenaire_verslagen/detail?vj=2016-2017&nr='+str(i)+'&version=2'\n",
    "    r = requests.get(url)\n",
    "    data = r.text\n",
    "    soup = BeautifulSoup(data, 'lxml')\n",
    "    vergadering = soup.find_all(id=\"vergadering\")[0]\n",
    "    \n",
    "    for br in vergadering.find_all('br'):\n",
    "        br.replace_with('\\n')\n",
    "    \n",
    "    # verzamel lijst van deelnemers\n",
    "    for naam in vergadering.find_all(class_='naam'):\n",
    "        t = naam.get_text(strip=True).lower()\n",
    "        if not t[:7] == 'termijn' and not t[:5] == 'motie' and not t[:8] == 'stemming':\n",
    "            deelnemers.add(t)\n",
    "        \n",
    "    for d in deelnemers:\n",
    "        if not d in uitspraken.keys():\n",
    "            uitspraken[d] = []\n",
    "        \n",
    "    text = vergadering.get_text()\n",
    "    \n",
    "    # verzamel uitspraken per deelnemer\n",
    "    for el in re.split(pattern, text):\n",
    "        el = el.lower().splitlines()\n",
    "        if len(el) < 3:\n",
    "            continue\n",
    "        if el[1][:-1] in deelnemers:\n",
    "            uitspraak = ' '.join([d.strip() for d in el[2:]])\n",
    "            uitspraken[el[1][:-1]].append(uitspraak)\n",
    "            \n",
    "    time.sleep(10)"
   ]
  },
  {
   "cell_type": "code",
   "execution_count": 9,
   "metadata": {
    "collapsed": false,
    "scrolled": false
   },
   "outputs": [
    {
     "name": "stdout",
     "output_type": "stream",
     "text": [
      "0 vragen futselaar\n",
      "20 mevrouw van engelshoven (d66)\n",
      "0 vragen arno rutte\n",
      "8 mevrouw yeşilgöz-zegerius (vvd)\n",
      "29 de heer de jong (pvv)\n",
      "51 de heer markuszower (pvv)\n",
      "45 de heer verhoeven (d66)\n",
      "56 staatssecretaris klijnsma\n",
      "102 minister plasterk\n",
      "9 de heer koopmans (vvd)\n",
      "10 de heer azmani (vvd)\n",
      "80 de heer dijkgraaf (sgp)\n",
      "0 vragen özdil\n",
      "12 minister koenders\n",
      "30 de heer krol (50plus)\n",
      "74 mevrouw dik-faber (christenunie)\n",
      "58 de heer van raak (sp)\n",
      "17 mevrouw belhaj (d66)\n",
      "13 mevrouw van den hul (pvda)\n",
      "44 de heer kuzu (denk)\n",
      "34 mevrouw becker (vvd)\n",
      "0 lijst van controversiële onderwerpen\n",
      "12 mevrouw van den berg (cda)\n",
      "8 mevrouw hermans (vvd)\n",
      "56 minister schultz van haegen-maas geesteranus\n",
      "22 de heer martin bosma (pvv)\n",
      "74 mevrouw van toorenburg (cda)\n",
      "48 de heer futselaar (sp)\n",
      "8 mevrouw pia dijkstra (d66)\n",
      "22 de heer rog (cda)\n",
      "77 minister bussemaker\n",
      "179 de heer omtzigt (cda)\n",
      "76 mevrouw kröger (groenlinks)\n",
      "181 minister dijsselbloem\n",
      "0 vragen groothuizen\n",
      "4 de heer sjoerdsma (d66)\n",
      "36 de heer segers (christenunie)\n",
      "10 de heer bouali (d66)\n",
      "78 de heer remco dijkstra (vvd)\n",
      "65 de heer kwint (sp)\n",
      "18 mevrouw thieme (pvdd)\n",
      "59 mevrouw buitenweg (groenlinks)\n",
      "41 mevrouw keijzer (cda)\n",
      "0 vragen kuiken\n",
      "35 mevrouw schouten (christenunie)\n",
      "15 de heer hiddema (fvd)\n",
      "52 mevrouw agema (pvv)\n",
      "40 mevrouw van eijs (d66)\n",
      "0 vragen omtzigt\n",
      "0 vragen van eijs\n",
      "83 de heer grashoff (groenlinks)\n",
      "162 de heer graus (pvv)\n",
      "103 staatssecretaris dijkhoff\n",
      "64 de heer geurts (cda)\n",
      "39 de heer de groot (d66)\n",
      "3 mevrouw van den berg-jansen (cda)\n",
      "21 de heer jetten (d66)\n",
      "7 de heer raemakers (d66)\n",
      "0 mevrouw diertens (d66)\n",
      "40 de heer gijs van dijk (pvda)\n",
      "41 de heer paternotte (d66)\n",
      "35 mevrouw bruins slot (cda)\n",
      "57 de heer van haersma buma (cda)\n",
      "75 de heer roemer (sp)\n",
      "18 mevrouw özütok (groenlinks)\n",
      "24 de heer jasper van dijk (sp)\n",
      "37 de heer tony van dijck (pvv)\n",
      "5 mevrouw popken (pvv)\n",
      "60 de heer van oosten (vvd)\n",
      "57 mevrouw beckerman (sp)\n",
      "6 mevrouw van weerdenburg (pvv)\n",
      "140 staatssecretaris van rijn\n",
      "0 vragen van rooijen\n",
      "28 mevrouw sazias (50plus)\n",
      "36 de heer bisschop (sgp)\n",
      "86 de heer baudet (fvd)\n",
      "30 de heer snels (groenlinks)\n",
      "48 minister hennis-plasschaert\n",
      "38 de heer van meenen (d66)\n",
      "0 vragen bergkamp\n",
      "3 de heer kops (pvv)\n",
      "135 staatssecretaris wiebes\n",
      "47 mevrouw marijnissen (sp)\n",
      "0 vragen beckerman\n",
      "53 mevrouw karabulut (sp)\n",
      "11 de heer wiersma (vvd)\n",
      "19 de heer duisenberg (vvd)\n",
      "163 mevrouw ouwehand (pvdd)\n",
      "42 de heer van nispen (sp)\n",
      "0 vragen wiersma\n",
      "18 minister schippers\n",
      "0 vragen sjoerdsma\n",
      "2 de heer weverling (vvd)\n",
      "0 vragen özütok\n",
      "5 de heer van helvert (cda)\n",
      "0 de heer van dam\n",
      "54 de heer wilders (pvv)\n",
      "23 de heer van ojik (groenlinks)\n",
      "60 mevrouw kuiken (pvda)\n",
      "17 de heer amhaouch (cda)\n",
      "0 vragen paternotte\n",
      "76 mevrouw van tongeren (groenlinks)\n",
      "16 de heer anne mulder (vvd)\n",
      "60 de heer hijink (sp)\n",
      "3 de heer middendorp (vvd)\n",
      "55 de heer klaver (groenlinks)\n",
      "32 de heer özdil (groenlinks)\n",
      "67 de heer öztürk (denk)\n",
      "0 vragen agnes mulder\n",
      "18 mevrouw diks (groenlinks)\n",
      "11 de heer van kent (sp)\n",
      "24 de heer knops (cda)\n",
      "0 vragen markuszower\n",
      "23 mevrouw helder (pvv)\n",
      "0 vragen kwint\n",
      "18 de heer bruins (christenunie)\n",
      "19 mevrouw van brenk (50plus)\n",
      "56 mevrouw van veldhoven (d66)\n",
      "17 minister asscher\n",
      "0 vragen diks\n",
      "13 de heer el yassini (vvd)\n",
      "44 de heer wassenberg (pvdd)\n",
      "8 de heer voordewind (christenunie)\n",
      "33 de heer groothuizen (d66)\n",
      "29 mevrouw westerveld (groenlinks)\n",
      "235 minister kamp\n",
      "153 de heer van rooijen (50plus)\n",
      "10 de heer de graaf (pvv)\n",
      "8 mevrouw kuik (cda)\n",
      "6 de heer peters (cda)\n",
      "21 de heer beertema (pvv)\n",
      "48 de heer van der staaij (sgp)\n",
      "134 de heer nijboer (pvda)\n",
      "52 de heer van aalst (pvv)\n",
      "193 mevrouw leijten (sp)\n",
      "14 de heer ronnes (cda)\n",
      "0 vragen van toorenburg\n",
      "24 mevrouw bergkamp (d66)\n",
      "19 de heer laçin (sp)\n",
      "103 de heer van weyenberg (d66)\n",
      "2 de heer tjeenk willink\n",
      "65 de heer van raan (pvdd)\n",
      "0 vragen fritsma\n",
      "103 mevrouw lodders (vvd)\n",
      "70 de heer mark rutte (vvd)\n",
      "68 mevrouw agnes mulder (cda)\n",
      "106 mevrouw aukje de vries (vvd)\n",
      "51 de heer pechtold (d66)\n",
      "24 mevrouw tellegen (vvd)\n",
      "0 vragen de jong\n",
      "3 de heer van den bosch (vvd)\n",
      "13 mevrouw maeijer (pvv)\n",
      "93 de heer asscher (pvda)\n",
      "21 de heer harbers (vvd)\n",
      "157 staatssecretaris dijksma\n",
      "142 minister blok\n",
      "0 vragen gijs van dijk\n",
      "13 mevrouw visser (vvd)\n",
      "34 de heer bosman (vvd)\n",
      "27 mevrouw ellemeet (groenlinks)\n",
      "82 staatssecretaris dekker\n",
      "0 vragen van den berg\n",
      "74 de heer van der lee (groenlinks)\n",
      "0 vragen helder\n",
      "14 minister ploumen\n",
      "3747 de voorzitter\n",
      "0 vragen ronnes\n",
      "30 de heer edgar mulder (pvv)\n",
      "23 de heer arno rutte (vvd)\n",
      "4 mevrouw schippers\n",
      "4 mevrouw voortman (groenlinks)\n",
      "19 mevrouw kooiman (sp)\n",
      "19 de heer fritsma (pvv)\n",
      "31 mevrouw arissen (pvdd)\n",
      "98 minister rutte\n",
      "43 de heer azarkan (denk)\n",
      "12 mevrouw gerbrands (pvv)\n",
      "2 de heer ziengs (vvd)\n",
      "17 de heer van dam (cda)\n",
      "30 de heer von martels (cda)\n",
      "21 de heer van der molen (cda)\n",
      "\n",
      "Totaal aantal uitspraken: 10807\n",
      "Totaal aantal woorden: 4604744\n"
     ]
    }
   ],
   "source": [
    "totaal = 0\n",
    "woorden = 0\n",
    "for deelnemer in deelnemers:\n",
    "    totaal += len(uitspraken[deelnemer])\n",
    "    print(len(uitspraken[deelnemer]), deelnemer)\n",
    "    for uitspraak in uitspraken[deelnemer]:\n",
    "        woorden += len(uitspraak)\n",
    "print()\n",
    "print('Totaal aantal uitspraken: {}'.format(totaal))\n",
    "print('Totaal aantal woorden: {}'.format(woorden))"
   ]
  },
  {
   "cell_type": "code",
   "execution_count": 8,
   "metadata": {
    "collapsed": true
   },
   "outputs": [],
   "source": [
    "import json\n",
    "with open('uitspraken.json', 'w') as outfile:  \n",
    "    json.dump(uitspraken, outfile, indent=4)"
   ]
  },
  {
   "cell_type": "markdown",
   "metadata": {},
   "source": [
    "<hr>"
   ]
  },
  {
   "cell_type": "code",
   "execution_count": null,
   "metadata": {
    "collapsed": true
   },
   "outputs": [],
   "source": [
    "import re\n",
    "# Use regular expressions to do a find-and-replace\n",
    "letters_only = re.sub(\"[^a-zA-Z]\",           # The pattern to search for\n",
    "                      \" \",                   # The pattern to replace it with\n",
    "                      text )  # The text to search"
   ]
  },
  {
   "cell_type": "code",
   "execution_count": null,
   "metadata": {
    "collapsed": true
   },
   "outputs": [],
   "source": [
    "lower_case = letters_only.lower()        # Convert to lower case\n",
    "words = lower_case.split()               # Split into words"
   ]
  },
  {
   "cell_type": "code",
   "execution_count": null,
   "metadata": {
    "collapsed": true
   },
   "outputs": [],
   "source": [
    "from nltk.corpus import stopwords"
   ]
  },
  {
   "cell_type": "code",
   "execution_count": null,
   "metadata": {
    "collapsed": true
   },
   "outputs": [],
   "source": [
    "words = [w for w in words if not w in stopwords.words(\"dutch\")]\n",
    "clean_text = ' '.join(words)"
   ]
  },
  {
   "cell_type": "code",
   "execution_count": null,
   "metadata": {
    "collapsed": true
   },
   "outputs": [],
   "source": [
    "clean_text"
   ]
  },
  {
   "cell_type": "code",
   "execution_count": null,
   "metadata": {
    "collapsed": true
   },
   "outputs": [],
   "source": [
    "print \"Creating the bag of words...\\n\"\n",
    "from sklearn.feature_extraction.text import CountVectorizer\n",
    "\n",
    "# Initialize the \"CountVectorizer\" object, which is scikit-learn's\n",
    "# bag of words tool.  \n",
    "vectorizer = CountVectorizer(analyzer = \"word\",   \\\n",
    "                             tokenizer = None,    \\\n",
    "                             preprocessor = None, \\\n",
    "                             stop_words = None,   \\\n",
    "                             max_features = 5000) \n",
    "\n",
    "# fit_transform() does two functions: First, it fits the model\n",
    "# and learns the vocabulary; second, it transforms our training data\n",
    "# into feature vectors. The input to fit_transform should be a list of \n",
    "# strings.\n",
    "train_data_features = vectorizer.fit_transform(clean_train_reviews)\n",
    "\n",
    "# Numpy arrays are easy to work with, so convert the result to an \n",
    "# array\n",
    "train_data_features = train_data_features.toarray()"
   ]
  }
 ],
 "metadata": {
  "anaconda-cloud": {},
  "kernelspec": {
   "display_name": "Python 3",
   "language": "python",
   "name": "python3"
  },
  "language_info": {
   "codemirror_mode": {
    "name": "ipython",
    "version": 3
   },
   "file_extension": ".py",
   "mimetype": "text/x-python",
   "name": "python",
   "nbconvert_exporter": "python",
   "pygments_lexer": "ipython3",
   "version": "3.6.0"
  }
 },
 "nbformat": 4,
 "nbformat_minor": 2
}
